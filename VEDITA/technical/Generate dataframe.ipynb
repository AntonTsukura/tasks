{
 "cells": [
  {
   "cell_type": "code",
   "execution_count": 103,
   "id": "b04e8e2e",
   "metadata": {},
   "outputs": [],
   "source": [
    "import pandas as pd\n",
    "import numpy as np\n",
    "import random as random_1\n",
    "from numpy import random "
   ]
  },
  {
   "cell_type": "code",
   "execution_count": 107,
   "id": "2d131ad0",
   "metadata": {},
   "outputs": [],
   "source": [
    "PRODUCT_ID = [];\n",
    "PRODUCT_NAME = [];\n",
    "PRODUCT_PRICE = [];\n",
    "PRODUCT_ARTICLE = [];\n",
    "PRODUCT_QUANTITY = [];\n",
    "DATE_CREATE = [];\n",
    "\n",
    "for n in range (1, 321):\n",
    "    str_n = str(n);\n",
    "    \n",
    "    PRODUCT_ID.append(\"product_id_\" + str_n + str(random_1.randrange(1, 1000)));\n",
    "   \n",
    "    PRODUCT_NAME.append(\"product_name_\" + str_n + str(random_1.randrange(1, 100)));\n",
    "    \n",
    "    PRODUCT_PRICE.append(str(random_1.randrange(1, 12472)));\n",
    "    \n",
    "    text = \"text \" * random_1.randrange(1, 10);\n",
    "    PRODUCT_ARTICLE.append(text);\n",
    "    PRODUCT_QUANTITY.append(str(random_1.randrange(1, 10)));\n",
    "    DATE_CREATE.append(str(random_1.randrange(1161132196, 1667832146)));\n",
    "    \n",
    "df = pd.DataFrame({'PRODUCT_ID':PRODUCT_ID,'PRODUCT_NAME':PRODUCT_NAME,'PRODUCT_PRICE':PRODUCT_PRICE,'PRODUCT_ARTICLE':PRODUCT_ARTICLE,'PRODUCT_QUANTITY':PRODUCT_QUANTITY,'DATE_CREATE': DATE_CREATE})\n",
    "df.to_csv('out16.csv', encoding='utf-8-sig', header=False)"
   ]
  },
  {
   "cell_type": "code",
   "execution_count": null,
   "id": "b80c683b",
   "metadata": {},
   "outputs": [],
   "source": []
  }
 ],
 "metadata": {
  "kernelspec": {
   "display_name": "Python 3 (ipykernel)",
   "language": "python",
   "name": "python3"
  },
  "language_info": {
   "codemirror_mode": {
    "name": "ipython",
    "version": 3
   },
   "file_extension": ".py",
   "mimetype": "text/x-python",
   "name": "python",
   "nbconvert_exporter": "python",
   "pygments_lexer": "ipython3",
   "version": "3.9.12"
  }
 },
 "nbformat": 4,
 "nbformat_minor": 5
}
