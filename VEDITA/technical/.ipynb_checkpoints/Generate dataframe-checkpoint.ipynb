{
 "cells": [
  {
   "cell_type": "code",
   "execution_count": 51,
   "id": "b04e8e2e",
   "metadata": {},
   "outputs": [],
   "source": [
    "import pandas as pd\n",
    "from numpy import random \n",
    "from randomtimestamp import randomtimestamp, random_date, random_time"
   ]
  },
  {
   "cell_type": "code",
   "execution_count": 55,
   "id": "2d131ad0",
   "metadata": {},
   "outputs": [
    {
     "name": "stdout",
     "output_type": "stream",
     "text": [
      "['1', '9', ':', '0', '0', ':', '0', '0', '1', '9', ':', '0', '0', ':', '0', '0', '1', '9', ':', '0', '0', ':', '0', '0', '1', '9', ':', '0', '0', ':', '0', '0', '1', '9', ':', '0', '0', ':', '0', '0', '1', '9', ':', '0', '0', ':', '0', '0', '1', '9', ':', '0', '0', ':', '0', '0', '1', '9', ':', '0', '0', ':', '0', '0', '1', '9', ':', '0', '0', ':', '0', '0', '1', '9', ':', '0', '0', ':', '0', '0']\n"
     ]
    }
   ],
   "source": [
    "ID = []\n",
    "PRODUCT_ID = []\n",
    "PRODUCT_NAME = []\n",
    "PRODUCT_PRICE = []\n",
    "PRODUCT_ARTICLE = []\n",
    "PRODUCT_QUANTITY = []\n",
    "DATE_CREATE = []\n",
    "    \n",
    "for n in range (10):\n",
    "    str_n = str(n);\n",
    "    ID.extend(str_n);\n",
    "    PRODUCT_ID.extend(\"product_id_\"+str_n+str(random.randint(1000)));\n",
    "    PRODUCT_NAME.extend(\"product_name_\"+str_n+str(random.randint(100)));\n",
    "    PRODUCT_PRICE.extend(str(random.randint(12343)));\n",
    "    \n",
    "    text = \"text \" * random.randint(10);\n",
    "    PRODUCT_ARTICLE.extend(text);\n",
    "    PRODUCT_QUANTITY.extend(str(random.randint(10)));\n",
    "\n",
    "    time_starter = datetime.strptime(\"10:00:00\",\"%H:%M:%S\");\n",
    "    for i in range(1,10):\n",
    "        time = time_starter + timedelta(hours=i);\n",
    "        time = time.strftime(\"%H:%M:%S\");\n",
    "    DATE_CREATE.extend(time);\n",
    "    \n",
    "print(DATE_CREATE);"
   ]
  },
  {
   "cell_type": "code",
   "execution_count": 58,
   "id": "97d83ff8",
   "metadata": {},
   "outputs": [
    {
     "ename": "NameError",
     "evalue": "name 'randomtimestamp' is not defined",
     "output_type": "error",
     "traceback": [
      "\u001b[1;31m---------------------------------------------------------------------------\u001b[0m",
      "\u001b[1;31mNameError\u001b[0m                                 Traceback (most recent call last)",
      "Cell \u001b[1;32mIn [58], line 1\u001b[0m\n\u001b[1;32m----> 1\u001b[0m \u001b[43mrandomtimestamp\u001b[49m(start_year\u001b[38;5;241m=\u001b[39m\u001b[38;5;241m2020\u001b[39m, end_year\u001b[38;5;241m=\u001b[39m\u001b[38;5;241m2021\u001b[39m, text\u001b[38;5;241m=\u001b[39m\u001b[38;5;28;01mTrue\u001b[39;00m)\n",
      "\u001b[1;31mNameError\u001b[0m: name 'randomtimestamp' is not defined"
     ]
    }
   ],
   "source": [
    "randomtimestamp(start_year=2020, end_year=2021, text=True)"
   ]
  },
  {
   "cell_type": "code",
   "execution_count": null,
   "id": "2e3cd574",
   "metadata": {},
   "outputs": [],
   "source": []
  },
  {
   "cell_type": "code",
   "execution_count": null,
   "id": "54e3a02e",
   "metadata": {},
   "outputs": [],
   "source": []
  }
 ],
 "metadata": {
  "kernelspec": {
   "display_name": "Python 3 (ipykernel)",
   "language": "python",
   "name": "python3"
  },
  "language_info": {
   "codemirror_mode": {
    "name": "ipython",
    "version": 3
   },
   "file_extension": ".py",
   "mimetype": "text/x-python",
   "name": "python",
   "nbconvert_exporter": "python",
   "pygments_lexer": "ipython3",
   "version": "3.9.12"
  }
 },
 "nbformat": 4,
 "nbformat_minor": 5
}
